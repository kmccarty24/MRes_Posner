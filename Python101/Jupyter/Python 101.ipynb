{
 "cells": [
  {
   "cell_type": "markdown",
   "metadata": {},
   "source": [
    "# Welcome To Python 101\n",
    "\n",
    "## PY0766 Practical Research Skills and Techniques\n",
    "## Kris McCarty \n",
    "## February 2018 \n",
    "\n",
    "Welcome to this Jupyter Notebook. You should be somewhat familiar with these from your Quantitative Methods Module with Thomas. He of course used an R kernel, but we are going to use Python 2.7 as it is more flexible for general purpose programming than R. \n",
    "\n",
    "Together, we will work through this worksheet in class one step at a time and you will have some time to do some extra examples and worksheets between classes. \n",
    "\n",
    "\n",
    "### Some Useful Shortcuts:\n",
    "\n",
    "Run Selected Cell:      Ctrl  + Enter\n",
    "\n",
    "Run Cell, Select Below: Shift + Enter\n",
    "\n",
    "Run Cell, Create Below: Alt   + Enter\n",
    "\n",
    "\n",
    "\n",
    "Without further ado, lets jump in\n",
    "\n",
    "___"
   ]
  },
  {
   "cell_type": "markdown",
   "metadata": {},
   "source": [
    "# Your Current Working Directory ..."
   ]
  },
  {
   "cell_type": "code",
   "execution_count": 3,
   "metadata": {},
   "outputs": [
    {
     "data": {
      "text/plain": [
       "u'C:\\\\Users\\\\krist\\\\Dropbox\\\\PostDoc Northumbria\\\\Programming\\\\MRes Posner\\\\Python101\\\\Jupyter'"
      ]
     },
     "execution_count": 3,
     "metadata": {},
     "output_type": "execute_result"
    }
   ],
   "source": [
    "%pwd"
   ]
  },
  {
   "cell_type": "markdown",
   "metadata": {},
   "source": [
    "___"
   ]
  },
  {
   "cell_type": "markdown",
   "metadata": {},
   "source": [
    "# Your First Program\n",
    "\n",
    "As customary when learning a new language, we should write our hello world program.\n",
    "\n",
    "We will use the python keyword `print` and we will pass this keyword a *String*. \n",
    "Strings are denoted by quote marks '  ' or \"  \". you can use either, but be consistent. Note the keyword `print` is lowercase.\n",
    "\n",
    "In the cell below, type:\n",
    "\n",
    "```Python\n",
    "print ('Hello World')\n",
    "```"
   ]
  },
  {
   "cell_type": "code",
   "execution_count": null,
   "metadata": {
    "collapsed": true
   },
   "outputs": [],
   "source": []
  }
 ],
 "metadata": {
  "kernelspec": {
   "display_name": "Python 2",
   "language": "python",
   "name": "python2"
  },
  "language_info": {
   "codemirror_mode": {
    "name": "ipython",
    "version": 2
   },
   "file_extension": ".py",
   "mimetype": "text/x-python",
   "name": "python",
   "nbconvert_exporter": "python",
   "pygments_lexer": "ipython2",
   "version": "2.7.13"
  }
 },
 "nbformat": 4,
 "nbformat_minor": 2
}
